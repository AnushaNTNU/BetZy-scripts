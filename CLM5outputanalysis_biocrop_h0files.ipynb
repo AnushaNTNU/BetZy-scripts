{
 "cells": [
  {
   "cell_type": "code",
   "execution_count": 1,
   "metadata": {},
   "outputs": [],
   "source": [
    "import xarray as xr\n",
    "import numpy as np\n",
    "import glob as glob\n",
    "import pandas as pd\n",
    "import matplotlib.pyplot as plt\n",
    "import cartopy.crs as ccrs\n",
    "import cartopy.mpl.ticker as cticker\n",
    "import cartopy.feature as cfeature\n",
    "from matplotlib.animation import FuncAnimation\n",
    "import imageio.v2 as imageio\n",
    "import numpy as np\n",
    "import sparse"
   ]
  },
  {
   "cell_type": "code",
   "execution_count": 2,
   "metadata": {},
   "outputs": [
    {
     "ename": "ValueError",
     "evalue": "must supply at least one object to concatenate",
     "output_type": "error",
     "traceback": [
      "\u001b[0;31m---------------------------------------------------------------------------\u001b[0m",
      "\u001b[0;31mStopIteration\u001b[0m                             Traceback (most recent call last)",
      "File \u001b[0;32m~/.local/lib/python3.8/site-packages/xarray/core/concat.py:226\u001b[0m, in \u001b[0;36mconcat\u001b[0;34m(objs, dim, data_vars, coords, compat, positions, fill_value, join, combine_attrs)\u001b[0m\n\u001b[1;32m    225\u001b[0m \u001b[39mtry\u001b[39;00m:\n\u001b[0;32m--> 226\u001b[0m     first_obj, objs \u001b[39m=\u001b[39m utils\u001b[39m.\u001b[39;49mpeek_at(objs)\n\u001b[1;32m    227\u001b[0m \u001b[39mexcept\u001b[39;00m \u001b[39mStopIteration\u001b[39;00m:\n",
      "File \u001b[0;32m~/.local/lib/python3.8/site-packages/xarray/core/utils.py:186\u001b[0m, in \u001b[0;36mpeek_at\u001b[0;34m(iterable)\u001b[0m\n\u001b[1;32m    185\u001b[0m gen \u001b[39m=\u001b[39m \u001b[39miter\u001b[39m(iterable)\n\u001b[0;32m--> 186\u001b[0m peek \u001b[39m=\u001b[39m \u001b[39mnext\u001b[39;49m(gen)\n\u001b[1;32m    187\u001b[0m \u001b[39mreturn\u001b[39;00m peek, itertools\u001b[39m.\u001b[39mchain([peek], gen)\n",
      "\u001b[0;31mStopIteration\u001b[0m: ",
      "\nDuring handling of the above exception, another exception occurred:\n",
      "\u001b[0;31mValueError\u001b[0m                                Traceback (most recent call last)",
      "\u001b[1;32m/cluster/projects/nn9576k/anusha/scripts/CLM5outputanalysis_biocrop_h0files.ipynb Cell 2\u001b[0m line \u001b[0;36m<cell line: 20>\u001b[0;34m()\u001b[0m\n\u001b[1;32m     <a href='vscode-notebook-cell://ssh-remote%2Blogin-1.betzy.sigma2.no/cluster/projects/nn9576k/anusha/scripts/CLM5outputanalysis_biocrop_h0files.ipynb#W1sdnNjb2RlLXJlbW90ZQ%3D%3D?line=26'>27</a>\u001b[0m     NPP_def \u001b[39m=\u001b[39m dset_case_def[\u001b[39m'\u001b[39m\u001b[39mNPP\u001b[39m\u001b[39m'\u001b[39m]\n\u001b[1;32m     <a href='vscode-notebook-cell://ssh-remote%2Blogin-1.betzy.sigma2.no/cluster/projects/nn9576k/anusha/scripts/CLM5outputanalysis_biocrop_h0files.ipynb#W1sdnNjb2RlLXJlbW90ZQ%3D%3D?line=27'>28</a>\u001b[0m     datasets_def\u001b[39m.\u001b[39mappend(NPP_def)\n\u001b[0;32m---> <a href='vscode-notebook-cell://ssh-remote%2Blogin-1.betzy.sigma2.no/cluster/projects/nn9576k/anusha/scripts/CLM5outputanalysis_biocrop_h0files.ipynb#W1sdnNjb2RlLXJlbW90ZQ%3D%3D?line=29'>30</a>\u001b[0m combined_dataset_def \u001b[39m=\u001b[39m xr\u001b[39m.\u001b[39;49mconcat(datasets_def, dim\u001b[39m=\u001b[39;49m\u001b[39m'\u001b[39;49m\u001b[39mtime\u001b[39;49m\u001b[39m'\u001b[39;49m)\n\u001b[1;32m     <a href='vscode-notebook-cell://ssh-remote%2Blogin-1.betzy.sigma2.no/cluster/projects/nn9576k/anusha/scripts/CLM5outputanalysis_biocrop_h0files.ipynb#W1sdnNjb2RlLXJlbW90ZQ%3D%3D?line=30'>31</a>\u001b[0m sum_NPP_def_GtC \u001b[39m=\u001b[39m combined_dataset_def\u001b[39m.\u001b[39msum([\u001b[39m'\u001b[39m\u001b[39mtime\u001b[39m\u001b[39m'\u001b[39m]) \u001b[39m*\u001b[39m \u001b[39m86400\u001b[39m \u001b[39m*\u001b[39m \u001b[39m30.5\u001b[39m \u001b[39m*\u001b[39m (\u001b[39m1e-15\u001b[39m) \u001b[39m*\u001b[39m dset_case_def[\u001b[39m'\u001b[39m\u001b[39marea\u001b[39m\u001b[39m'\u001b[39m] \u001b[39m*\u001b[39m (\u001b[39m1e6\u001b[39m)\n\u001b[1;32m     <a href='vscode-notebook-cell://ssh-remote%2Blogin-1.betzy.sigma2.no/cluster/projects/nn9576k/anusha/scripts/CLM5outputanalysis_biocrop_h0files.ipynb#W1sdnNjb2RlLXJlbW90ZQ%3D%3D?line=31'>32</a>\u001b[0m sum_NPP_def_GtC_values\u001b[39m.\u001b[39mappend(sum_NPP_def_GtC)\n",
      "File \u001b[0;32m~/.local/lib/python3.8/site-packages/xarray/core/concat.py:228\u001b[0m, in \u001b[0;36mconcat\u001b[0;34m(objs, dim, data_vars, coords, compat, positions, fill_value, join, combine_attrs)\u001b[0m\n\u001b[1;32m    226\u001b[0m     first_obj, objs \u001b[39m=\u001b[39m utils\u001b[39m.\u001b[39mpeek_at(objs)\n\u001b[1;32m    227\u001b[0m \u001b[39mexcept\u001b[39;00m \u001b[39mStopIteration\u001b[39;00m:\n\u001b[0;32m--> 228\u001b[0m     \u001b[39mraise\u001b[39;00m \u001b[39mValueError\u001b[39;00m(\u001b[39m\"\u001b[39m\u001b[39mmust supply at least one object to concatenate\u001b[39m\u001b[39m\"\u001b[39m)\n\u001b[1;32m    230\u001b[0m \u001b[39mif\u001b[39;00m compat \u001b[39mnot\u001b[39;00m \u001b[39min\u001b[39;00m _VALID_COMPAT:\n\u001b[1;32m    231\u001b[0m     \u001b[39mraise\u001b[39;00m \u001b[39mValueError\u001b[39;00m(\n\u001b[1;32m    232\u001b[0m         \u001b[39mf\u001b[39m\u001b[39m\"\u001b[39m\u001b[39mcompat=\u001b[39m\u001b[39m{\u001b[39;00mcompat\u001b[39m!r}\u001b[39;00m\u001b[39m invalid: must be \u001b[39m\u001b[39m'\u001b[39m\u001b[39mbroadcast_equals\u001b[39m\u001b[39m'\u001b[39m\u001b[39m, \u001b[39m\u001b[39m'\u001b[39m\u001b[39mequals\u001b[39m\u001b[39m'\u001b[39m\u001b[39m, \u001b[39m\u001b[39m'\u001b[39m\u001b[39midentical\u001b[39m\u001b[39m'\u001b[39m\u001b[39m, \u001b[39m\u001b[39m'\u001b[39m\u001b[39mno_conflicts\u001b[39m\u001b[39m'\u001b[39m\u001b[39m or \u001b[39m\u001b[39m'\u001b[39m\u001b[39moverride\u001b[39m\u001b[39m'\u001b[39m\u001b[39m\"\u001b[39m\n\u001b[1;32m    233\u001b[0m     )\n",
      "\u001b[0;31mValueError\u001b[0m: must supply at least one object to concatenate"
     ]
    }
   ],
   "source": [
    "# List of file paths\n",
    "file_paths = [\n",
    "\"/cluster/work/users/a2021/archive/NSSP534frc2esm_f19_tn14_0509_sugarcane/lnd/hist/NSSP534frc2esm_f19_tn14_0509_sugarcane.clm2.h0.2080*.nc\",\n",
    "    \"/cluster/work/users/a2021/archive/NSSP534frc2esm_f19_tn14_0509_sugarcane/lnd/hist/NSSP534frc2esm_f19_tn14_0509_sugarcane.clm2.h0.2081*.nc\",\n",
    "    \"/cluster/work/users/a2021/archive/NSSP534frc2esm_f19_tn14_0509_sugarcane/lnd/hist/NSSP534frc2esm_f19_tn14_0509_sugarcane.clm2.h0.2082*.nc\",\n",
    "    \"/cluster/work/users/a2021/archive/NSSP534frc2esm_f19_tn14_0509_sugarcane/lnd/hist/NSSP534frc2esm_f19_tn14_0509_sugarcane.clm2.h0.2083*.nc\"\n",
    "    #\"/cluster/work/users/a2021/archive/NSSP534frc2esm_f19_tn14_0509_sugarcane/lnd/hist/NSSP534frc2esm_f19_tn14_0509_sugarcane.clm2.h0.2080*.nc\",\n",
    "    #\"/cluster/work/users/a2021/archive/NSSP534frc2esm_f19_tn14_0509_sugarcane/lnd/hist/NSSP534frc2esm_f19_tn14_0509_sugarcane.clm2.h0.2081*.nc\",\n",
    "    #\"/cluster/work/users/a2021/archive/NSSP534frc2esm_f19_tn14_0509_sugarcane/lnd/hist/NSSP534frc2esm_f19_tn14_0509_sugarcane.clm2.h0.2082*.nc\",\n",
    "    #\"/cluster/work/users/a2021/archive/NSSP534frc2esm_f19_tn14_0509_sugarcane/lnd/hist/NSSP534frc2esm_f19_tn14_0509_sugarcane.clm2.h0.2083*.nc\",\n",
    "    #\"/cluster/work/users/a2021/archive/NSSP534frc2esm_f19_tn14_2009_sugarcane_restart2060/lnd/hist/NSSP534frc2esm_f19_tn14_2009_sugarcane_restart2060.clm2.h0.2060*.nc\",\n",
    "    #\"/cluster/work/users/a2021/archive/NSSP534frc2esm_f19_tn14_2109_sugarcane_emission2040/lnd/hist/NSSP534frc2esm_f19_tn14_2109_sugarcane_emission2040.clm2.h0.2080*.nc\",\n",
    "    #\"/cluster/work/users/a2021/archive/NSSP534frc2esm_f19_tn14_2109_sugarcane_emission2040/lnd/hist/NSSP534frc2esm_f19_tn14_2109_sugarcane_emission2040.clm2.h0.2080*.nc\",\n",
    "    #\"/cluster/work/users/a2021/archive/NSSP534frc2esm_f19_tn14_2109_sugarcane_emission2060/lnd/hist/NSSP534frc2esm_f19_tn14_2109_sugarcane_emission2060.clm2.h0.2080*.nc\"\n",
    "    # Add more file paths here\n",
    "]\n",
    "\n",
    "sum_NPP_def_GtC_values = []\n",
    "\n",
    "for file_path in file_paths:\n",
    "    list_files_def = glob.glob(file_path)\n",
    "    list_files_def = sorted(list_files_def)\n",
    "    datasets_def = []\n",
    "\n",
    "    for i in range(len(list_files_def)):\n",
    "        dset_case_def = xr.open_dataset(list_files_def[i], decode_times=False)\n",
    "        NPP_def = dset_case_def['NPP']\n",
    "        datasets_def.append(NPP_def)\n",
    "\n",
    "    combined_dataset_def = xr.concat(datasets_def, dim='time')\n",
    "    sum_NPP_def_GtC = combined_dataset_def.sum(['time']) * 86400 * 30.5 * (1e-15) * dset_case_def['area'] * (1e6)\n",
    "    sum_NPP_def_GtC_values.append(sum_NPP_def_GtC)\n",
    "\n",
    "# Now, `sum_NPP_def_GtC_values` contains the separate sum values for each set of file paths\n",
    "# You can loop through these values and create plots for each set of file paths\n",
    "variables = ['sum_NPP_def_GtC_2080', 'sum_NPP_def_GtC_2081','sum_NPP_def_GtC_2082','sum_NPP_def_GtC_2083','sum_NPP_cane_GtC_2080','sum_NPP_cane_GtC_2081','sum_NPP_cane_GtC_2082',\n",
    "             'sum_NPP_cane_GtC_2083','sum_NPP_def_GtC_2060', 'sum_NPP_def_GtC_2040','sum_NPP_def_GtC_2080with2040emis', 'sum_NPP_def_GtC_2080with2060emis']  # Add variable names as needed\n",
    "\n",
    "for i, variable in enumerate(variables):\n",
    "    data = sum_NPP_def_GtC_values[i]\n",
    "    data = data.where(data != 0)\n",
    "    fig, axs = plt.subplots(figsize=(8, 4), subplot_kw={'projection': ccrs.PlateCarree()})\n",
    "    xr.set_options(cmap_sequential=plt.cm.YlGn, keep_attrs=True)\n",
    "    cmap = plt.cm.get_cmap()\n",
    "    cmap.set_under('gray')\n",
    "    cmap = plt.get_cmap('jet',)\n",
    "    data.plot(cmap=cmap,cbar_kwargs={'label': 'NPP(GtC/year)'},vmin=0,vmax=0.1)\n",
    "\n",
    "    land = cfeature.NaturalEarthFeature('physical', 'land', '110m', edgecolor='none', facecolor='white')\n",
    "    axs.add_feature(land, zorder=0)\n",
    "    axs.coastlines(linewidth=1)\n",
    "    axs.set_xticks(np.arange(-180, 181, 60), crs=ccrs.PlateCarree())\n",
    "    lon_formatter = cticker.LongitudeFormatter()\n",
    "    axs.xaxis.set_major_formatter(lon_formatter)\n",
    "    axs.set_yticks(np.arange(-90, 91, 30), crs=ccrs.PlateCarree())\n",
    "    lat_formatter = cticker.LatitudeFormatter()\n",
    "    axs.yaxis.set_major_formatter(lat_formatter)\n",
    "    axs.set_title(f'{variable}', fontsize=16, loc='center')\n",
    "    annual_yield = (np.sum(data)).item()\n",
    "    axs.text(0.8, -0.3, f\"{annual_yield:.3f}\", fontsize=10, color='k', ha='center', va='top', transform=plt.gca().transAxes)\n",
    "    fig.patch.set_facecolor('white')\n",
    "    plt.show()\n"
   ]
  },
  {
   "cell_type": "markdown",
   "metadata": {},
   "source": [
    "##just to test the plotting techniques"
   ]
  },
  {
   "cell_type": "code",
   "execution_count": 3,
   "metadata": {},
   "outputs": [
    {
     "ename": "KeyError",
     "evalue": "'sum_NPP_def_GtC_2080'",
     "output_type": "error",
     "traceback": [
      "\u001b[0;31m---------------------------------------------------------------------------\u001b[0m",
      "\u001b[0;31mKeyError\u001b[0m                                  Traceback (most recent call last)",
      "\u001b[1;32m/cluster/projects/nn9576k/anusha/scripts/CLM5outputanalysis_biocrop_h0files.ipynb Cell 4\u001b[0m line \u001b[0;36m<cell line: 3>\u001b[0;34m()\u001b[0m\n\u001b[1;32m      <a href='vscode-notebook-cell://ssh-remote%2Bbetzy/cluster/projects/nn9576k/anusha/scripts/CLM5outputanalysis_biocrop_h0files.ipynb#W3sdnNjb2RlLXJlbW90ZQ%3D%3D?line=0'>1</a>\u001b[0m variables \u001b[39m=\u001b[39m [\u001b[39m'\u001b[39m\u001b[39msum_NPP_def_GtC_2080\u001b[39m\u001b[39m'\u001b[39m]\u001b[39m#,'sum_NPP_corn_GtC_2080', 'sum_NPP_cane_GtC_2080', 'sum_NPP_cane_GtC_2081', 'sum_NPP_cane_GtC_2082', 'sum_NPP_cane_GtC_2083'] #'NPP_sum_GtC_year_corn',\u001b[39;00m\n\u001b[1;32m      <a href='vscode-notebook-cell://ssh-remote%2Bbetzy/cluster/projects/nn9576k/anusha/scripts/CLM5outputanalysis_biocrop_h0files.ipynb#W3sdnNjb2RlLXJlbW90ZQ%3D%3D?line=2'>3</a>\u001b[0m \u001b[39mfor\u001b[39;00m variable \u001b[39min\u001b[39;00m variables:\n\u001b[1;32m      <a href='vscode-notebook-cell://ssh-remote%2Bbetzy/cluster/projects/nn9576k/anusha/scripts/CLM5outputanalysis_biocrop_h0files.ipynb#W3sdnNjb2RlLXJlbW90ZQ%3D%3D?line=3'>4</a>\u001b[0m     \u001b[39m# Access the data for the current variable\u001b[39;00m\n\u001b[0;32m----> <a href='vscode-notebook-cell://ssh-remote%2Bbetzy/cluster/projects/nn9576k/anusha/scripts/CLM5outputanalysis_biocrop_h0files.ipynb#W3sdnNjb2RlLXJlbW90ZQ%3D%3D?line=4'>5</a>\u001b[0m     data \u001b[39m=\u001b[39m \u001b[39mglobals\u001b[39;49m()[variable]  \u001b[39m# Assuming the variables are defined in the global scope\u001b[39;00m\n\u001b[1;32m      <a href='vscode-notebook-cell://ssh-remote%2Bbetzy/cluster/projects/nn9576k/anusha/scripts/CLM5outputanalysis_biocrop_h0files.ipynb#W3sdnNjb2RlLXJlbW90ZQ%3D%3D?line=5'>6</a>\u001b[0m     data \u001b[39m=\u001b[39m data\u001b[39m.\u001b[39mwhere(data \u001b[39m!=\u001b[39m \u001b[39m0\u001b[39m)\n\u001b[1;32m      <a href='vscode-notebook-cell://ssh-remote%2Bbetzy/cluster/projects/nn9576k/anusha/scripts/CLM5outputanalysis_biocrop_h0files.ipynb#W3sdnNjb2RlLXJlbW90ZQ%3D%3D?line=6'>7</a>\u001b[0m     fig, axs \u001b[39m=\u001b[39m plt\u001b[39m.\u001b[39msubplots(figsize\u001b[39m=\u001b[39m(\u001b[39m8\u001b[39m, \u001b[39m4\u001b[39m), subplot_kw\u001b[39m=\u001b[39m{\u001b[39m'\u001b[39m\u001b[39mprojection\u001b[39m\u001b[39m'\u001b[39m: ccrs\u001b[39m.\u001b[39mPlateCarree()})\n",
      "\u001b[0;31mKeyError\u001b[0m: 'sum_NPP_def_GtC_2080'"
     ]
    }
   ],
   "source": [
    "variables = ['sum_NPP_def_GtC_2080']#,'sum_NPP_corn_GtC_2080', 'sum_NPP_cane_GtC_2080', 'sum_NPP_cane_GtC_2081', 'sum_NPP_cane_GtC_2082', 'sum_NPP_cane_GtC_2083'] #'NPP_sum_GtC_year_corn',\n",
    "\n",
    "for variable in variables:\n",
    "    # Access the data for the current variable\n",
    "    data = globals()[variable]  # Assuming the variables are defined in the global scope\n",
    "    data = data.where(data != 0)\n",
    "    fig, axs = plt.subplots(figsize=(8, 4), subplot_kw={'projection': ccrs.PlateCarree()})\n",
    "    xr.set_options(cmap_sequential=plt.cm.YlGn, keep_attrs=True)\n",
    "    cmap = plt.cm.get_cmap()\n",
    "    cmap.set_under('gray')\n",
    "    cmap = plt.get_cmap('jet',)\n",
    "    plot=data.plot(cmap=cmap,cbar_kwargs={'label': 'NPP(GtC/year)'})\n",
    "\n",
    "    land = cfeature.NaturalEarthFeature('physical', 'land', '110m', edgecolor='none', facecolor='white')\n",
    "    axs.add_feature(land, zorder=0)\n",
    "    axs.coastlines(linewidth=1)\n",
    "    axs.set_xticks(np.arange(-180, 181, 60), crs=ccrs.PlateCarree())\n",
    "    lon_formatter = cticker.LongitudeFormatter()\n",
    "    axs.xaxis.set_major_formatter(lon_formatter)\n",
    "    axs.set_yticks(np.arange(-90, 91, 30), crs=ccrs.PlateCarree())\n",
    "    lat_formatter = cticker.LatitudeFormatter()\n",
    "    axs.yaxis.set_major_formatter(lat_formatter)\n",
    "    axs.set_title(f'{variable}', fontsize=16, loc='center')\n",
    "    annual_yield = (np.sum(data)).item()\n",
    "    axs.text(0.8, -0.3, f\"{annual_yield:.3f}\", fontsize=10, color='k', ha='center', va='top', transform=plt.gca().transAxes)\n",
    "    fig.patch.set_facecolor('white')\n",
    "    plt.show()"
   ]
  },
  {
   "cell_type": "markdown",
   "metadata": {},
   "source": [
    "##READ SINGLE FILE"
   ]
  },
  {
   "cell_type": "markdown",
   "metadata": {},
   "source": [
    "file_paths = [\n",
    "    \"/cluster/work/users/a2021/archive/NSSP534frc2esm_f19_tn14_1008_withrestart/lnd/hist/NSSP534frc2esm_f19_tn14_1008_withrestart.clm2.h0.2080*.nc\",\n",
    "]\n",
    "\n",
    "sum_NPP_def_GtC_values = []\n",
    "\n",
    "for file_path in file_paths:\n",
    "    list_files_def = glob.glob(file_path)\n",
    "    list_files_def = sorted(list_files_def)\n",
    "    datasets_def = []\n",
    "\n",
    "    for i in range(len(list_files_def)):\n",
    "        dset_case_def = xr.open_dataset(list_files_def[i], decode_times=False)\n",
    "        NPP_def = dset_case_def['NPP']\n",
    "        datasets_def.append(NPP_def)\n",
    "\n",
    "    combined_dataset_def = xr.concat(datasets_def, dim='time')\n",
    "    sum_NPP_def_GtC = combined_dataset_def.sum(['time']) * 86400 * 30 * (1e-15) * dset_case_def['area'] * (1e6)\n",
    "    sum_NPP_def_GtC_values.append(sum_NPP_def_GtC)"
   ]
  }
 ],
 "metadata": {
  "kernelspec": {
   "display_name": "jupyter",
   "language": "python",
   "name": "python3"
  },
  "language_info": {
   "codemirror_mode": {
    "name": "ipython",
    "version": 3
   },
   "file_extension": ".py",
   "mimetype": "text/x-python",
   "name": "python",
   "nbconvert_exporter": "python",
   "pygments_lexer": "ipython3",
   "version": "3.8.15"
  },
  "orig_nbformat": 4
 },
 "nbformat": 4,
 "nbformat_minor": 2
}
